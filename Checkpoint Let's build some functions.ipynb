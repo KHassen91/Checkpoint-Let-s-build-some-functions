{
 "cells": [
  {
   "cell_type": "markdown",
   "metadata": {},
   "source": [
    "# Question 1:"
   ]
  },
  {
   "cell_type": "code",
   "execution_count": null,
   "metadata": {},
   "outputs": [],
   "source": [
    "def max (a,b,c):\n",
    "    if a>b and a>c:\n",
    "        return (a)\n",
    "    elif b>a and b>c:\n",
    "        return (b)\n",
    "    else:\n",
    "        return (c)"
   ]
  },
  {
   "cell_type": "markdown",
   "metadata": {},
   "source": [
    "# Question 2:"
   ]
  },
  {
   "cell_type": "code",
   "execution_count": 38,
   "metadata": {},
   "outputs": [],
   "source": [
    "def cal (a,b):\n",
    "    x = a-b\n",
    "    y = a+b\n",
    "    return x,y"
   ]
  },
  {
   "cell_type": "markdown",
   "metadata": {},
   "source": [
    "# Question 3:"
   ]
  },
  {
   "cell_type": "code",
   "execution_count": 39,
   "metadata": {},
   "outputs": [
    {
     "data": {
      "text/plain": [
       "(48, 9)"
      ]
     },
     "execution_count": 39,
     "metadata": {},
     "output_type": "execute_result"
    }
   ],
   "source": [
    "def summ (list):\n",
    "    res = 0\n",
    "    for i in list:\n",
    "        res += i\n",
    "    return res\n",
    "\n",
    "def multip (list):\n",
    "    res = 1 \n",
    "    for i in list:\n",
    "        res *=i\n",
    "    return res\n",
    "\n",
    "def sumormult (list):\n",
    "    li1=[]\n",
    "    li2=[]\n",
    "    for ele in range(0,len(list)):\n",
    "        if (ele%2 == 0):\n",
    "            li1.append(list[ele])\n",
    "        else:\n",
    "            li2.append(list[ele])\n",
    "    return multip(li2) , summ(li1)\n",
    "        \n",
    "sumormult ([1,2,3,4,5,6])"
   ]
  },
  {
   "cell_type": "markdown",
   "metadata": {},
   "source": [
    "# Question 4:"
   ]
  },
  {
   "cell_type": "code",
   "execution_count": 50,
   "metadata": {},
   "outputs": [
    {
     "name": "stdout",
     "output_type": "stream",
     "text": [
      "jj\n",
      "jj\n"
     ]
    }
   ],
   "source": [
    "def ord ():\n",
    "    n=input() \n",
    "    l=n.split('-') \n",
    "    l.sort() \n",
    "    print('-'.join(l))\n",
    "ord()"
   ]
  },
  {
   "cell_type": "markdown",
   "metadata": {},
   "source": [
    "# Question 5:"
   ]
  },
  {
   "cell_type": "code",
   "execution_count": 52,
   "metadata": {},
   "outputs": [
    {
     "name": "stdout",
     "output_type": "stream",
     "text": [
      "180\n",
      "24\n"
     ]
    }
   ],
   "source": [
    "import math\n",
    "\n",
    "def funn ():\n",
    "    D=int(input())\n",
    "    Q=round(math.sqrt((2*50*D)/30))\n",
    "    print(Q)\n",
    "funn()"
   ]
  },
  {
   "cell_type": "code",
   "execution_count": null,
   "metadata": {},
   "outputs": [],
   "source": []
  }
 ],
 "metadata": {
  "kernelspec": {
   "display_name": "Python 3",
   "language": "python",
   "name": "python3"
  },
  "language_info": {
   "codemirror_mode": {
    "name": "ipython",
    "version": 3
   },
   "file_extension": ".py",
   "mimetype": "text/x-python",
   "name": "python",
   "nbconvert_exporter": "python",
   "pygments_lexer": "ipython3",
   "version": "3.8.5"
  }
 },
 "nbformat": 4,
 "nbformat_minor": 4
}
